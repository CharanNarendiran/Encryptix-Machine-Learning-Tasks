{
 "cells": [
  {
   "cell_type": "markdown",
   "id": "7fd2b76d",
   "metadata": {},
   "source": [
    "# SPAM SMS DETECTION\n",
    "## To Do:\n",
    "### Build an AI model that can classify SMS messages as spam or legitimate. Use techniques like TF-IDF or word embeddings with classifiers like Naive Bayes, Logistic Regression, or Support Vector Machines to identify spam messages."
   ]
  },
  {
   "cell_type": "code",
   "execution_count": 1,
   "id": "ff0605b8",
   "metadata": {},
   "outputs": [],
   "source": [
    "import pandas as pd\n",
    "from sklearn.model_selection import train_test_split\n",
    "from sklearn.feature_extraction.text import TfidfVectorizer\n",
    "from sklearn.naive_bayes import MultinomialNB\n",
    "from sklearn.linear_model import LogisticRegression\n",
    "from sklearn.svm import SVC\n",
    "from sklearn.metrics import classification_report, accuracy_score"
   ]
  },
  {
   "cell_type": "code",
   "execution_count": 2,
   "id": "35e90ec4",
   "metadata": {},
   "outputs": [],
   "source": [
    "data  = pd.read_csv('C:/Users/CHARAN/Downloads/SMS Spam Collection Dataset/spam.csv', encoding='latin-1')"
   ]
  },
  {
   "cell_type": "code",
   "execution_count": 3,
   "id": "f7eeec7f",
   "metadata": {},
   "outputs": [],
   "source": [
    "data = data[['v1', 'v2']]  # Keep only necessary columns\n",
    "data.columns = ['label', 'message']  # Rename columns for easier access"
   ]
  },
  {
   "cell_type": "code",
   "execution_count": 4,
   "id": "d3024a73",
   "metadata": {},
   "outputs": [],
   "source": [
    "# Convert labels to binary values (0 = ham, 1 = spam)\n",
    "data['label'] = data['label'].map({'ham': 0, 'spam': 1})"
   ]
  },
  {
   "cell_type": "code",
   "execution_count": 5,
   "id": "344bdfb2",
   "metadata": {},
   "outputs": [],
   "source": [
    "# Split the data into training and testing sets\n",
    "X_train, X_test, y_train, y_test = train_test_split(data['message'], data['label'], test_size=0.2, random_state=42)"
   ]
  },
  {
   "cell_type": "code",
   "execution_count": 6,
   "id": "9049dcc9",
   "metadata": {},
   "outputs": [],
   "source": [
    "# Feature extraction using TF-IDF\n",
    "vectorizer = TfidfVectorizer(stop_words='english')\n",
    "X_train_tfidf = vectorizer.fit_transform(X_train)\n",
    "X_test_tfidf = vectorizer.transform(X_test)"
   ]
  },
  {
   "cell_type": "code",
   "execution_count": 7,
   "id": "eba93493",
   "metadata": {},
   "outputs": [],
   "source": [
    "# Initialize the classifiers\n",
    "nb = MultinomialNB()\n",
    "lr = LogisticRegression(max_iter=1000)\n",
    "svm = SVC(kernel='linear')"
   ]
  },
  {
   "cell_type": "code",
   "execution_count": 8,
   "id": "98704710",
   "metadata": {},
   "outputs": [
    {
     "name": "stdout",
     "output_type": "stream",
     "text": [
      "Naive Bayes Classifier:\n",
      "Accuracy: 0.9668161434977578\n",
      "              precision    recall  f1-score   support\n",
      "\n",
      "           0       0.96      1.00      0.98       965\n",
      "           1       1.00      0.75      0.86       150\n",
      "\n",
      "    accuracy                           0.97      1115\n",
      "   macro avg       0.98      0.88      0.92      1115\n",
      "weighted avg       0.97      0.97      0.96      1115\n",
      "\n"
     ]
    }
   ],
   "source": [
    "# Train and evaluate Naive Bayes classifier\n",
    "nb.fit(X_train_tfidf, y_train)\n",
    "nb_pred = nb.predict(X_test_tfidf)\n",
    "print(\"Naive Bayes Classifier:\")\n",
    "print(f\"Accuracy: {accuracy_score(y_test, nb_pred)}\")\n",
    "print(classification_report(y_test, nb_pred))\n"
   ]
  },
  {
   "cell_type": "code",
   "execution_count": 9,
   "id": "72d1f559",
   "metadata": {},
   "outputs": [
    {
     "name": "stdout",
     "output_type": "stream",
     "text": [
      "\n",
      "Logistic Regression Classifier:\n",
      "Accuracy: 0.9524663677130045\n",
      "              precision    recall  f1-score   support\n",
      "\n",
      "           0       0.95      1.00      0.97       965\n",
      "           1       0.97      0.67      0.79       150\n",
      "\n",
      "    accuracy                           0.95      1115\n",
      "   macro avg       0.96      0.83      0.88      1115\n",
      "weighted avg       0.95      0.95      0.95      1115\n",
      "\n"
     ]
    }
   ],
   "source": [
    "# Train and evaluate Logistic Regression classifier\n",
    "lr.fit(X_train_tfidf, y_train)\n",
    "lr_pred = lr.predict(X_test_tfidf)\n",
    "print(\"\\nLogistic Regression Classifier:\")\n",
    "print(f\"Accuracy: {accuracy_score(y_test, lr_pred)}\")\n",
    "print(classification_report(y_test, lr_pred))"
   ]
  },
  {
   "cell_type": "code",
   "execution_count": 10,
   "id": "2a3a38b2",
   "metadata": {},
   "outputs": [
    {
     "name": "stdout",
     "output_type": "stream",
     "text": [
      "\n",
      "Support Vector Machine Classifier:\n",
      "Accuracy: 0.979372197309417\n",
      "              precision    recall  f1-score   support\n",
      "\n",
      "           0       0.98      1.00      0.99       965\n",
      "           1       0.97      0.87      0.92       150\n",
      "\n",
      "    accuracy                           0.98      1115\n",
      "   macro avg       0.98      0.93      0.95      1115\n",
      "weighted avg       0.98      0.98      0.98      1115\n",
      "\n"
     ]
    }
   ],
   "source": [
    "# Train and evaluate Support Vector Machine classifier\n",
    "svm.fit(X_train_tfidf, y_train)\n",
    "svm_pred = svm.predict(X_test_tfidf)\n",
    "print(\"\\nSupport Vector Machine Classifier:\")\n",
    "print(f\"Accuracy: {accuracy_score(y_test, svm_pred)}\")\n",
    "print(classification_report(y_test, svm_pred))"
   ]
  },
  {
   "cell_type": "code",
   "execution_count": 11,
   "id": "d03b38ca",
   "metadata": {},
   "outputs": [],
   "source": [
    "# Open a file to save the results\n",
    "with open(\"spam_classification_results.txt\", \"w\") as f:\n",
    "    \n",
    "    # Naive Bayes classifier\n",
    "    f.write(\"Naive Bayes Classifier:\\n\")\n",
    "    f.write(f\"Accuracy: {accuracy_score(y_test, nb_pred)}\\n\")\n",
    "    f.write(classification_report(y_test, nb_pred))\n",
    "    f.write(\"\\n\" + \"=\"*60 + \"\\n\")\n",
    "    \n",
    "    # Logistic Regression classifier\n",
    "    f.write(\"\\nLogistic Regression Classifier:\\n\")\n",
    "    f.write(f\"Accuracy: {accuracy_score(y_test, lr_pred)}\\n\")\n",
    "    f.write(classification_report(y_test, lr_pred))\n",
    "    f.write(\"\\n\" + \"=\"*60 + \"\\n\")\n",
    "    \n",
    "    # Support Vector Machine classifier\n",
    "    f.write(\"\\nSupport Vector Machine Classifier:\\n\")\n",
    "    f.write(f\"Accuracy: {accuracy_score(y_test, svm_pred)}\\n\")\n",
    "    f.write(classification_report(y_test, svm_pred))\n",
    "    f.write(\"\\n\" + \"=\"*60 + \"\\n\")"
   ]
  },
  {
   "cell_type": "code",
   "execution_count": null,
   "id": "c54e5fa9",
   "metadata": {},
   "outputs": [],
   "source": []
  }
 ],
 "metadata": {
  "kernelspec": {
   "display_name": "Python 3 (ipykernel)",
   "language": "python",
   "name": "python3"
  },
  "language_info": {
   "codemirror_mode": {
    "name": "ipython",
    "version": 3
   },
   "file_extension": ".py",
   "mimetype": "text/x-python",
   "name": "python",
   "nbconvert_exporter": "python",
   "pygments_lexer": "ipython3",
   "version": "3.9.13"
  }
 },
 "nbformat": 4,
 "nbformat_minor": 5
}
