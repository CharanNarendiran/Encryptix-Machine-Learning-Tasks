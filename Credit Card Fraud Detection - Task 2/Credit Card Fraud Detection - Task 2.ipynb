{
 "cells": [
  {
   "cell_type": "markdown",
   "id": "e19e07ba",
   "metadata": {},
   "source": [
    "# CREDIT CARD FRAUD DETECTION\n",
    "## To Do:\n",
    "### Build a model to detect fraudulent credit card transactions. Use a dataset containing information about credit card transactions, and experiment with algorithms like Logistic Regression, Decision Trees, or Random Forests to classify transactions as fraudulent or legitimate."
   ]
  },
  {
   "cell_type": "code",
   "execution_count": 1,
   "id": "5a57e6d4",
   "metadata": {},
   "outputs": [],
   "source": [
    "import pandas as pd\n",
    "import numpy as np\n",
    "from sklearn.tree import DecisionTreeClassifier\n",
    "from sklearn.metrics import accuracy_score\n",
    "from sklearn.metrics import confusion_matrix\n",
    "from sklearn.metrics import classification_report"
   ]
  },
  {
   "cell_type": "code",
   "execution_count": 2,
   "id": "277cd171",
   "metadata": {},
   "outputs": [],
   "source": [
    "#define path\n",
    "Test_path = pd.read_csv(\"C:/Users/CHARAN/Downloads/Credit Card Transactions Fraud Detection Dataset/fraudTrain.csv\")\n",
    "Train_path = pd.read_csv(\"C:/Users/CHARAN/Downloads/Credit Card Transactions Fraud Detection Dataset/fraudTest.csv\")"
   ]
  },
  {
   "cell_type": "code",
   "execution_count": 3,
   "id": "44884dff",
   "metadata": {},
   "outputs": [],
   "source": [
    "#by changing frac value you can reduce the Test data size\n",
    "Test_sample = Test_path.sample(frac = 1)\n",
    "Train_sample = Train_path.sample(frac = 1)"
   ]
  },
  {
   "cell_type": "code",
   "execution_count": 4,
   "id": "452b23c4",
   "metadata": {},
   "outputs": [
    {
     "name": "stdout",
     "output_type": "stream",
     "text": [
      "<class 'pandas.core.frame.DataFrame'>\n",
      "Int64Index: 1296675 entries, 213906 to 61455\n",
      "Data columns (total 23 columns):\n",
      " #   Column                 Non-Null Count    Dtype  \n",
      "---  ------                 --------------    -----  \n",
      " 0   Unnamed: 0             1296675 non-null  int64  \n",
      " 1   trans_date_trans_time  1296675 non-null  object \n",
      " 2   cc_num                 1296675 non-null  int64  \n",
      " 3   merchant               1296675 non-null  object \n",
      " 4   category               1296675 non-null  object \n",
      " 5   amt                    1296675 non-null  float64\n",
      " 6   first                  1296675 non-null  object \n",
      " 7   last                   1296675 non-null  object \n",
      " 8   gender                 1296675 non-null  object \n",
      " 9   street                 1296675 non-null  object \n",
      " 10  city                   1296675 non-null  object \n",
      " 11  state                  1296675 non-null  object \n",
      " 12  zip                    1296675 non-null  int64  \n",
      " 13  lat                    1296675 non-null  float64\n",
      " 14  long                   1296675 non-null  float64\n",
      " 15  city_pop               1296675 non-null  int64  \n",
      " 16  job                    1296675 non-null  object \n",
      " 17  dob                    1296675 non-null  object \n",
      " 18  trans_num              1296675 non-null  object \n",
      " 19  unix_time              1296675 non-null  int64  \n",
      " 20  merch_lat              1296675 non-null  float64\n",
      " 21  merch_long             1296675 non-null  float64\n",
      " 22  is_fraud               1296675 non-null  int64  \n",
      "dtypes: float64(5), int64(6), object(12)\n",
      "memory usage: 237.4+ MB\n"
     ]
    }
   ],
   "source": [
    "# check details\n",
    "Test_sample.head()\n",
    "Test_sample.info()"
   ]
  },
  {
   "cell_type": "code",
   "execution_count": 5,
   "id": "238f7f04",
   "metadata": {},
   "outputs": [
    {
     "data": {
      "text/plain": [
       "Index(['trans_date_trans_time', 'merchant', 'category', 'first', 'last',\n",
       "       'gender', 'street', 'city', 'state', 'job', 'dob', 'trans_num'],\n",
       "      dtype='object')"
      ]
     },
     "execution_count": 5,
     "metadata": {},
     "output_type": "execute_result"
    }
   ],
   "source": [
    "#define non numeric columns\n",
    "non_numeric_columns = Train_sample.select_dtypes(include=['object']).columns\n",
    "non_numeric_columns"
   ]
  },
  {
   "cell_type": "code",
   "execution_count": 6,
   "id": "19c9252e",
   "metadata": {},
   "outputs": [],
   "source": [
    "# Create a copy of Test_sample\n",
    "Train_sample_num = Train_sample.copy()\n",
    "Test_sample_num = Test_sample.copy()"
   ]
  },
  {
   "cell_type": "code",
   "execution_count": 7,
   "id": "89c11024",
   "metadata": {},
   "outputs": [],
   "source": [
    "#drop all object columns\n",
    "Train_sample_num = Train_sample_num.select_dtypes(exclude=['object'])\n",
    "Test_sample_num = Test_sample_num.select_dtypes(exclude=['object'])"
   ]
  },
  {
   "cell_type": "code",
   "execution_count": 8,
   "id": "d558559b",
   "metadata": {},
   "outputs": [
    {
     "data": {
      "text/html": [
       "<div>\n",
       "<style scoped>\n",
       "    .dataframe tbody tr th:only-of-type {\n",
       "        vertical-align: middle;\n",
       "    }\n",
       "\n",
       "    .dataframe tbody tr th {\n",
       "        vertical-align: top;\n",
       "    }\n",
       "\n",
       "    .dataframe thead th {\n",
       "        text-align: right;\n",
       "    }\n",
       "</style>\n",
       "<table border=\"1\" class=\"dataframe\">\n",
       "  <thead>\n",
       "    <tr style=\"text-align: right;\">\n",
       "      <th></th>\n",
       "      <th>Unnamed: 0</th>\n",
       "      <th>cc_num</th>\n",
       "      <th>amt</th>\n",
       "      <th>zip</th>\n",
       "      <th>lat</th>\n",
       "      <th>long</th>\n",
       "      <th>city_pop</th>\n",
       "      <th>unix_time</th>\n",
       "      <th>merch_lat</th>\n",
       "      <th>merch_long</th>\n",
       "      <th>is_fraud</th>\n",
       "    </tr>\n",
       "  </thead>\n",
       "  <tbody>\n",
       "    <tr>\n",
       "      <th>213906</th>\n",
       "      <td>213906</td>\n",
       "      <td>4874017206859125</td>\n",
       "      <td>130.75</td>\n",
       "      <td>97034</td>\n",
       "      <td>45.4093</td>\n",
       "      <td>-122.6847</td>\n",
       "      <td>42817</td>\n",
       "      <td>1334841714</td>\n",
       "      <td>44.817806</td>\n",
       "      <td>-123.427253</td>\n",
       "      <td>0</td>\n",
       "    </tr>\n",
       "    <tr>\n",
       "      <th>232018</th>\n",
       "      <td>232018</td>\n",
       "      <td>373905417449658</td>\n",
       "      <td>56.38</td>\n",
       "      <td>76665</td>\n",
       "      <td>31.9290</td>\n",
       "      <td>-97.6443</td>\n",
       "      <td>2526</td>\n",
       "      <td>1335529002</td>\n",
       "      <td>31.377478</td>\n",
       "      <td>-97.162615</td>\n",
       "      <td>0</td>\n",
       "    </tr>\n",
       "    <tr>\n",
       "      <th>1105033</th>\n",
       "      <td>1105033</td>\n",
       "      <td>4671727014157745</td>\n",
       "      <td>151.02</td>\n",
       "      <td>46702</td>\n",
       "      <td>40.8618</td>\n",
       "      <td>-85.6067</td>\n",
       "      <td>2304</td>\n",
       "      <td>1365135654</td>\n",
       "      <td>41.743377</td>\n",
       "      <td>-85.049163</td>\n",
       "      <td>0</td>\n",
       "    </tr>\n",
       "    <tr>\n",
       "      <th>1135147</th>\n",
       "      <td>1135147</td>\n",
       "      <td>4792627764422477317</td>\n",
       "      <td>100.81</td>\n",
       "      <td>66018</td>\n",
       "      <td>38.9462</td>\n",
       "      <td>-94.9714</td>\n",
       "      <td>5760</td>\n",
       "      <td>1366262377</td>\n",
       "      <td>39.072818</td>\n",
       "      <td>-95.879294</td>\n",
       "      <td>0</td>\n",
       "    </tr>\n",
       "    <tr>\n",
       "      <th>872109</th>\n",
       "      <td>872109</td>\n",
       "      <td>38199021865320</td>\n",
       "      <td>70.96</td>\n",
       "      <td>3601</td>\n",
       "      <td>43.1960</td>\n",
       "      <td>-72.3001</td>\n",
       "      <td>477</td>\n",
       "      <td>1356032427</td>\n",
       "      <td>42.792485</td>\n",
       "      <td>-71.743069</td>\n",
       "      <td>0</td>\n",
       "    </tr>\n",
       "  </tbody>\n",
       "</table>\n",
       "</div>"
      ],
      "text/plain": [
       "         Unnamed: 0               cc_num     amt    zip      lat      long  \\\n",
       "213906       213906     4874017206859125  130.75  97034  45.4093 -122.6847   \n",
       "232018       232018      373905417449658   56.38  76665  31.9290  -97.6443   \n",
       "1105033     1105033     4671727014157745  151.02  46702  40.8618  -85.6067   \n",
       "1135147     1135147  4792627764422477317  100.81  66018  38.9462  -94.9714   \n",
       "872109       872109       38199021865320   70.96   3601  43.1960  -72.3001   \n",
       "\n",
       "         city_pop   unix_time  merch_lat  merch_long  is_fraud  \n",
       "213906      42817  1334841714  44.817806 -123.427253         0  \n",
       "232018       2526  1335529002  31.377478  -97.162615         0  \n",
       "1105033      2304  1365135654  41.743377  -85.049163         0  \n",
       "1135147      5760  1366262377  39.072818  -95.879294         0  \n",
       "872109        477  1356032427  42.792485  -71.743069         0  "
      ]
     },
     "execution_count": 8,
     "metadata": {},
     "output_type": "execute_result"
    }
   ],
   "source": [
    "Train_sample_num.head()\n",
    "Test_sample_num.head()"
   ]
  },
  {
   "cell_type": "code",
   "execution_count": 9,
   "id": "ff149024",
   "metadata": {},
   "outputs": [
    {
     "data": {
      "text/plain": [
       "0    553574\n",
       "1      2145\n",
       "Name: is_fraud, dtype: int64"
      ]
     },
     "execution_count": 9,
     "metadata": {},
     "output_type": "execute_result"
    }
   ],
   "source": [
    "#Distribution of No Fraud vs Fraud\n",
    "Train_sample_num[\"is_fraud\"].value_counts()"
   ]
  },
  {
   "cell_type": "code",
   "execution_count": 10,
   "id": "37c6dcef",
   "metadata": {},
   "outputs": [],
   "source": [
    "#This dataset is Higly Unbalanced\n",
    "#Separationg data for analysis\n",
    "legit = Train_sample_num[Train_sample.is_fraud == 0]\n",
    "fraud = Train_sample_num[Train_sample.is_fraud == 1]"
   ]
  },
  {
   "cell_type": "code",
   "execution_count": 11,
   "id": "670725ca",
   "metadata": {},
   "outputs": [
    {
     "name": "stdout",
     "output_type": "stream",
     "text": [
      "(553574, 11)\n",
      "(2145, 11)\n"
     ]
    }
   ],
   "source": [
    "print (legit.shape)\n",
    "print (fraud.shape)"
   ]
  },
  {
   "cell_type": "code",
   "execution_count": 12,
   "id": "5a8105e2",
   "metadata": {},
   "outputs": [
    {
     "data": {
      "text/plain": [
       "count    2145.000000\n",
       "mean      528.356494\n",
       "std       392.747594\n",
       "min         1.780000\n",
       "25%       214.510000\n",
       "50%       371.940000\n",
       "75%       907.770000\n",
       "max      1320.920000\n",
       "Name: amt, dtype: float64"
      ]
     },
     "execution_count": 12,
     "metadata": {},
     "output_type": "execute_result"
    }
   ],
   "source": [
    "#stratistical measures for data\n",
    "legit.amt.describe()\n",
    "fraud.amt.describe()"
   ]
  },
  {
   "cell_type": "code",
   "execution_count": 13,
   "id": "3c7e706e",
   "metadata": {},
   "outputs": [
    {
     "data": {
      "text/html": [
       "<div>\n",
       "<style scoped>\n",
       "    .dataframe tbody tr th:only-of-type {\n",
       "        vertical-align: middle;\n",
       "    }\n",
       "\n",
       "    .dataframe tbody tr th {\n",
       "        vertical-align: top;\n",
       "    }\n",
       "\n",
       "    .dataframe thead th {\n",
       "        text-align: right;\n",
       "    }\n",
       "</style>\n",
       "<table border=\"1\" class=\"dataframe\">\n",
       "  <thead>\n",
       "    <tr style=\"text-align: right;\">\n",
       "      <th></th>\n",
       "      <th>Unnamed: 0</th>\n",
       "      <th>cc_num</th>\n",
       "      <th>amt</th>\n",
       "      <th>zip</th>\n",
       "      <th>lat</th>\n",
       "      <th>long</th>\n",
       "      <th>city_pop</th>\n",
       "      <th>unix_time</th>\n",
       "      <th>merch_lat</th>\n",
       "      <th>merch_long</th>\n",
       "    </tr>\n",
       "    <tr>\n",
       "      <th>is_fraud</th>\n",
       "      <th></th>\n",
       "      <th></th>\n",
       "      <th></th>\n",
       "      <th></th>\n",
       "      <th></th>\n",
       "      <th></th>\n",
       "      <th></th>\n",
       "      <th></th>\n",
       "      <th></th>\n",
       "      <th></th>\n",
       "    </tr>\n",
       "  </thead>\n",
       "  <tbody>\n",
       "    <tr>\n",
       "      <th>0</th>\n",
       "      <td>277997.725990</td>\n",
       "      <td>4.179643e+17</td>\n",
       "      <td>67.614408</td>\n",
       "      <td>48846.424285</td>\n",
       "      <td>38.541406</td>\n",
       "      <td>-90.230495</td>\n",
       "      <td>88313.692365</td>\n",
       "      <td>1.380683e+09</td>\n",
       "      <td>38.540954</td>\n",
       "      <td>-90.230474</td>\n",
       "    </tr>\n",
       "    <tr>\n",
       "      <th>1</th>\n",
       "      <td>242057.088112</td>\n",
       "      <td>3.854274e+17</td>\n",
       "      <td>528.356494</td>\n",
       "      <td>47862.900233</td>\n",
       "      <td>39.019971</td>\n",
       "      <td>-90.445556</td>\n",
       "      <td>64529.321678</td>\n",
       "      <td>1.379587e+09</td>\n",
       "      <td>39.018618</td>\n",
       "      <td>-90.465222</td>\n",
       "    </tr>\n",
       "  </tbody>\n",
       "</table>\n",
       "</div>"
      ],
      "text/plain": [
       "             Unnamed: 0        cc_num         amt           zip        lat  \\\n",
       "is_fraud                                                                     \n",
       "0         277997.725990  4.179643e+17   67.614408  48846.424285  38.541406   \n",
       "1         242057.088112  3.854274e+17  528.356494  47862.900233  39.019971   \n",
       "\n",
       "               long      city_pop     unix_time  merch_lat  merch_long  \n",
       "is_fraud                                                                \n",
       "0        -90.230495  88313.692365  1.380683e+09  38.540954  -90.230474  \n",
       "1        -90.445556  64529.321678  1.379587e+09  39.018618  -90.465222  "
      ]
     },
     "execution_count": 13,
     "metadata": {},
     "output_type": "execute_result"
    }
   ],
   "source": [
    "#compare the value for both transfaction\n",
    "Train_sample_num.groupby('is_fraud').mean()"
   ]
  },
  {
   "cell_type": "code",
   "execution_count": 14,
   "id": "30c2d56c",
   "metadata": {},
   "outputs": [
    {
     "name": "stdout",
     "output_type": "stream",
     "text": [
      "fraudalant tranfaction :2145\n"
     ]
    }
   ],
   "source": [
    "#Under Sampling and create new dataset\n",
    "print (\"fraudalant tranfaction :\"+str(fraud.shape[0]))"
   ]
  },
  {
   "cell_type": "code",
   "execution_count": 15,
   "id": "c9de1ef2",
   "metadata": {},
   "outputs": [],
   "source": [
    "#randomly select legimate transaction data equal to fraudalant data present in dataset\n",
    "legit_sample = legit.sample(n=fraud.shape[0])"
   ]
  },
  {
   "cell_type": "code",
   "execution_count": 16,
   "id": "ba5be435",
   "metadata": {},
   "outputs": [
    {
     "data": {
      "text/html": [
       "<div>\n",
       "<style scoped>\n",
       "    .dataframe tbody tr th:only-of-type {\n",
       "        vertical-align: middle;\n",
       "    }\n",
       "\n",
       "    .dataframe tbody tr th {\n",
       "        vertical-align: top;\n",
       "    }\n",
       "\n",
       "    .dataframe thead th {\n",
       "        text-align: right;\n",
       "    }\n",
       "</style>\n",
       "<table border=\"1\" class=\"dataframe\">\n",
       "  <thead>\n",
       "    <tr style=\"text-align: right;\">\n",
       "      <th></th>\n",
       "      <th>Unnamed: 0</th>\n",
       "      <th>cc_num</th>\n",
       "      <th>amt</th>\n",
       "      <th>zip</th>\n",
       "      <th>lat</th>\n",
       "      <th>long</th>\n",
       "      <th>city_pop</th>\n",
       "      <th>unix_time</th>\n",
       "      <th>merch_lat</th>\n",
       "      <th>merch_long</th>\n",
       "    </tr>\n",
       "    <tr>\n",
       "      <th>is_fraud</th>\n",
       "      <th></th>\n",
       "      <th></th>\n",
       "      <th></th>\n",
       "      <th></th>\n",
       "      <th></th>\n",
       "      <th></th>\n",
       "      <th></th>\n",
       "      <th></th>\n",
       "      <th></th>\n",
       "      <th></th>\n",
       "    </tr>\n",
       "  </thead>\n",
       "  <tbody>\n",
       "    <tr>\n",
       "      <th>0</th>\n",
       "      <td>282557.201399</td>\n",
       "      <td>4.473403e+17</td>\n",
       "      <td>79.457054</td>\n",
       "      <td>49839.053613</td>\n",
       "      <td>38.717813</td>\n",
       "      <td>-90.599997</td>\n",
       "      <td>84072.376690</td>\n",
       "      <td>1.380829e+09</td>\n",
       "      <td>38.709127</td>\n",
       "      <td>-90.601849</td>\n",
       "    </tr>\n",
       "    <tr>\n",
       "      <th>1</th>\n",
       "      <td>242057.088112</td>\n",
       "      <td>3.854274e+17</td>\n",
       "      <td>528.356494</td>\n",
       "      <td>47862.900233</td>\n",
       "      <td>39.019971</td>\n",
       "      <td>-90.445556</td>\n",
       "      <td>64529.321678</td>\n",
       "      <td>1.379587e+09</td>\n",
       "      <td>39.018618</td>\n",
       "      <td>-90.465222</td>\n",
       "    </tr>\n",
       "  </tbody>\n",
       "</table>\n",
       "</div>"
      ],
      "text/plain": [
       "             Unnamed: 0        cc_num         amt           zip        lat  \\\n",
       "is_fraud                                                                     \n",
       "0         282557.201399  4.473403e+17   79.457054  49839.053613  38.717813   \n",
       "1         242057.088112  3.854274e+17  528.356494  47862.900233  39.019971   \n",
       "\n",
       "               long      city_pop     unix_time  merch_lat  merch_long  \n",
       "is_fraud                                                                \n",
       "0        -90.599997  84072.376690  1.380829e+09  38.709127  -90.601849  \n",
       "1        -90.445556  64529.321678  1.379587e+09  39.018618  -90.465222  "
      ]
     },
     "execution_count": 16,
     "metadata": {},
     "output_type": "execute_result"
    }
   ],
   "source": [
    "#concatenating two dataset\n",
    "\n",
    "New_train_dataset = pd.concat([legit_sample,fraud], axis = 0)\n",
    "\n",
    "New_train_dataset.head()\n",
    "\n",
    "New_train_dataset[\"is_fraud\"].value_counts()\n",
    "\n",
    "New_train_dataset.select_dtypes(include=['number']).groupby('is_fraud').mean()"
   ]
  },
  {
   "cell_type": "code",
   "execution_count": 17,
   "id": "0a3c65b0",
   "metadata": {},
   "outputs": [
    {
     "name": "stdout",
     "output_type": "stream",
     "text": [
      "Accuracy of test data for Decision Tree Regressor :  0.3507363063219388\n",
      "Confution Matrix Score :  [[451545 837624]\n",
      " [  4260   3246]]\n",
      "Report :                precision    recall  f1-score   support\n",
      "\n",
      "           0       0.99      0.35      0.52   1289169\n",
      "           1       0.00      0.43      0.01      7506\n",
      "\n",
      "    accuracy                           0.35   1296675\n",
      "   macro avg       0.50      0.39      0.26   1296675\n",
      "weighted avg       0.98      0.35      0.51   1296675\n",
      "\n"
     ]
    }
   ],
   "source": [
    "X_train= New_train_dataset.drop(columns = 'is_fraud', axis = 1)\n",
    "Y_train = New_train_dataset['is_fraud']\n",
    "\n",
    "X_test = Test_sample_num.drop(columns = 'is_fraud', axis = 1)\n",
    "Y_test = Test_sample_num['is_fraud']\n",
    "\n",
    "model = DecisionTreeClassifier()\n",
    "model.fit(X_train, Y_train)\n",
    "\n",
    "Decision_prediction = model.predict(X_test)\n",
    "\n",
    "Accuracy=accuracy_score(Y_test, Decision_prediction)\n",
    "Con_matrix=confusion_matrix(Y_test, Decision_prediction)\n",
    "report=classification_report(Y_test, Decision_prediction)\n",
    "print(\"Accuracy of test data for Decision Tree Regressor : \",Accuracy )\n",
    "print(\"Confution Matrix Score : \",Con_matrix)\n",
    "print(\"Report : \",report)"
   ]
  },
  {
   "cell_type": "code",
   "execution_count": 18,
   "id": "72accab9",
   "metadata": {},
   "outputs": [],
   "source": [
    "# Create Text File with Report and Accuracy\n",
    "result_path = 'C:/Users/CHARAN/Downloads/Credit Card Transactions Fraud Detection Dataset/Decision Tree Regressor_Report.txt'\n",
    "with open(result_path,'w') as f:\n",
    "    f.write(\"Classification Report:\\n\")\n",
    "    f.write(str(report))\n",
    "    f.write(\"\\n\")\n",
    "    f.write(str(Accuracy))"
   ]
  },
  {
   "cell_type": "code",
   "execution_count": 19,
   "id": "a983b8c8",
   "metadata": {},
   "outputs": [
    {
     "name": "stderr",
     "output_type": "stream",
     "text": [
      "C:\\Users\\CHARAN\\anaconda3\\lib\\site-packages\\sklearn\\metrics\\_classification.py:1318: UndefinedMetricWarning: Precision and F-score are ill-defined and being set to 0.0 in labels with no predicted samples. Use `zero_division` parameter to control this behavior.\n",
      "  _warn_prf(average, modifier, msg_start, len(result))\n",
      "C:\\Users\\CHARAN\\anaconda3\\lib\\site-packages\\sklearn\\metrics\\_classification.py:1318: UndefinedMetricWarning: Precision and F-score are ill-defined and being set to 0.0 in labels with no predicted samples. Use `zero_division` parameter to control this behavior.\n",
      "  _warn_prf(average, modifier, msg_start, len(result))\n"
     ]
    },
    {
     "name": "stdout",
     "output_type": "stream",
     "text": [
      "Accuracy of test data for Logistic Regression:  0.9942113482561166\n",
      "Confusion Matrix:  [[1289169       0]\n",
      " [   7506       0]]\n",
      "Classification Report:                precision    recall  f1-score   support\n",
      "\n",
      "           0       0.99      1.00      1.00   1289169\n",
      "           1       0.00      0.00      0.00      7506\n",
      "\n",
      "    accuracy                           0.99   1296675\n",
      "   macro avg       0.50      0.50      0.50   1296675\n",
      "weighted avg       0.99      0.99      0.99   1296675\n",
      "\n"
     ]
    },
    {
     "name": "stderr",
     "output_type": "stream",
     "text": [
      "C:\\Users\\CHARAN\\anaconda3\\lib\\site-packages\\sklearn\\metrics\\_classification.py:1318: UndefinedMetricWarning: Precision and F-score are ill-defined and being set to 0.0 in labels with no predicted samples. Use `zero_division` parameter to control this behavior.\n",
      "  _warn_prf(average, modifier, msg_start, len(result))\n"
     ]
    }
   ],
   "source": [
    "from sklearn.linear_model import LogisticRegression\n",
    "from sklearn.metrics import accuracy_score, confusion_matrix, classification_report\n",
    "# Initialize the Logistic Regression model\n",
    "model = LogisticRegression()\n",
    "\n",
    "# Fit the model on the training data\n",
    "model.fit(X_train, Y_train)\n",
    "\n",
    "# Make predictions on the test data\n",
    "Logistic_prediction = model.predict(X_test)\n",
    "\n",
    "# Calculate accuracy\n",
    "Accuracy = accuracy_score(Y_test, Logistic_prediction)\n",
    "\n",
    "# Calculate confusion matrix\n",
    "Con_matrix = confusion_matrix(Y_test, Logistic_prediction)\n",
    "\n",
    "# Generate classification report\n",
    "report = classification_report(Y_test, Logistic_prediction)\n",
    "\n",
    "# Print the results\n",
    "print(\"Accuracy of test data for Logistic Regression: \", Accuracy)\n",
    "print(\"Confusion Matrix: \", Con_matrix)\n",
    "print(\"Classification Report: \", report)"
   ]
  },
  {
   "cell_type": "code",
   "execution_count": 20,
   "id": "af894185",
   "metadata": {},
   "outputs": [],
   "source": [
    "# Create Text File with Report and Accuracy\n",
    "result_path = 'C:/Users/CHARAN/Downloads/Credit Card Transactions Fraud Detection Dataset/Logistic Regression_Report.txt'\n",
    "with open(result_path,'w') as f:\n",
    "    f.write(\"Classification Report:\\n\")\n",
    "    f.write(str(report))\n",
    "    f.write(\"\\n\")\n",
    "    f.write(str(Accuracy))"
   ]
  },
  {
   "cell_type": "code",
   "execution_count": 21,
   "id": "293f4ed7",
   "metadata": {},
   "outputs": [
    {
     "name": "stdout",
     "output_type": "stream",
     "text": [
      "Accuracy of test data for Random Forest:  0.9646457284978889\n",
      "Confusion Matrix:  [[1245987   43182]\n",
      " [   2661    4845]]\n",
      "Classification Report:                precision    recall  f1-score   support\n",
      "\n",
      "           0       1.00      0.97      0.98   1289169\n",
      "           1       0.10      0.65      0.17      7506\n",
      "\n",
      "    accuracy                           0.96   1296675\n",
      "   macro avg       0.55      0.81      0.58   1296675\n",
      "weighted avg       0.99      0.96      0.98   1296675\n",
      "\n"
     ]
    }
   ],
   "source": [
    "from sklearn.ensemble import RandomForestClassifier\n",
    "from sklearn.metrics import accuracy_score, confusion_matrix, classification_report\n",
    "\n",
    "# Splitting features and target variable for training and testing datasets\n",
    "X_train = New_train_dataset.drop(columns='is_fraud', axis=1)\n",
    "Y_train = New_train_dataset['is_fraud']\n",
    "\n",
    "X_test = Test_sample_num.drop(columns='is_fraud', axis=1)\n",
    "Y_test = Test_sample_num['is_fraud']\n",
    "\n",
    "# Initialize the Random Forest model\n",
    "model = RandomForestClassifier()\n",
    "\n",
    "# Fit the model on the training data\n",
    "model.fit(X_train, Y_train)\n",
    "\n",
    "# Make predictions on the test data\n",
    "RandomForest_prediction = model.predict(X_test)\n",
    "\n",
    "# Calculate accuracy\n",
    "Accuracy = accuracy_score(Y_test, RandomForest_prediction)\n",
    "\n",
    "# Calculate confusion matrix\n",
    "Con_matrix = confusion_matrix(Y_test, RandomForest_prediction)\n",
    "\n",
    "# Generate classification report\n",
    "report = classification_report(Y_test, RandomForest_prediction)\n",
    "\n",
    "# Print the results\n",
    "print(\"Accuracy of test data for Random Forest: \", Accuracy)\n",
    "print(\"Confusion Matrix: \", Con_matrix)\n",
    "print(\"Classification Report: \", report)\n"
   ]
  },
  {
   "cell_type": "code",
   "execution_count": 22,
   "id": "6d2d46d6",
   "metadata": {},
   "outputs": [],
   "source": [
    "# Create Text File with Report and Accuracy\n",
    "result_path = 'C:/Users/CHARAN/Downloads/Credit Card Transactions Fraud Detection Dataset/Random Forest_Report.txt'\n",
    "with open(result_path,'w') as f:\n",
    "    f.write(\"Classification Report:\\n\")\n",
    "    f.write(str(report))\n",
    "    f.write(\"\\n\")\n",
    "    f.write(str(Accuracy))"
   ]
  },
  {
   "cell_type": "code",
   "execution_count": null,
   "id": "6d8488ee",
   "metadata": {},
   "outputs": [],
   "source": []
  }
 ],
 "metadata": {
  "kernelspec": {
   "display_name": "Python 3 (ipykernel)",
   "language": "python",
   "name": "python3"
  },
  "language_info": {
   "codemirror_mode": {
    "name": "ipython",
    "version": 3
   },
   "file_extension": ".py",
   "mimetype": "text/x-python",
   "name": "python",
   "nbconvert_exporter": "python",
   "pygments_lexer": "ipython3",
   "version": "3.9.13"
  }
 },
 "nbformat": 4,
 "nbformat_minor": 5
}
