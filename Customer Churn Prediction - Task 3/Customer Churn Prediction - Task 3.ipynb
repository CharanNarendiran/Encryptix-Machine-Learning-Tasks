{
 "cells": [
  {
   "cell_type": "markdown",
   "id": "f3375e11",
   "metadata": {},
   "source": [
    "# CUSTOMER CHURN PREDICTION\n",
    "## To Do:\n",
    "### Develop a model to predict customer churn for a subscription basedservice or business. Use historical customer data, including features like usage behavior and customer demographics, and try algorithms like Logistic Regression, Random Forests, or Gradient Boosting to predict churn."
   ]
  },
  {
   "cell_type": "code",
   "execution_count": 1,
   "id": "6bbe5c4b",
   "metadata": {},
   "outputs": [],
   "source": [
    "import pandas as pd\n",
    "from sklearn.model_selection import train_test_split, GridSearchCV\n",
    "from sklearn.preprocessing import StandardScaler, OneHotEncoder\n",
    "from sklearn.compose import ColumnTransformer\n",
    "from sklearn.pipeline import Pipeline\n",
    "from sklearn.impute import SimpleImputer\n",
    "from sklearn.ensemble import RandomForestClassifier, GradientBoostingClassifier\n",
    "from sklearn.linear_model import LogisticRegression\n",
    "from sklearn.metrics import classification_report, confusion_matrix, roc_auc_score"
   ]
  },
  {
   "cell_type": "code",
   "execution_count": 2,
   "id": "cefa1146",
   "metadata": {},
   "outputs": [],
   "source": [
    "data  = pd.read_csv(\"C:/Users/CHARAN/Downloads/Bank Customer Churn Prediction Dataset/Churn_Modelling.csv\")"
   ]
  },
  {
   "cell_type": "code",
   "execution_count": 3,
   "id": "539e5be5",
   "metadata": {},
   "outputs": [],
   "source": [
    "# Feature and target separation\n",
    "X = data.drop(columns=['Exited'])  # Features\n",
    "y = data['Exited']  # Target variable"
   ]
  },
  {
   "cell_type": "code",
   "execution_count": 4,
   "id": "d745ffec",
   "metadata": {},
   "outputs": [],
   "source": [
    "# Identify categorical and numerical columns\n",
    "categorical_cols = ['Geography', 'Gender']\n",
    "numerical_cols = ['CreditScore', 'Age', 'Tenure', 'Balance', 'NumOfProducts', 'HasCrCard', 'IsActiveMember', 'EstimatedSalary']"
   ]
  },
  {
   "cell_type": "code",
   "execution_count": 5,
   "id": "2c6f4cb9",
   "metadata": {},
   "outputs": [],
   "source": [
    "# Preprocessing for numerical data\n",
    "numerical_transformer = Pipeline(steps=[\n",
    "    ('imputer', SimpleImputer(strategy='median')),\n",
    "    ('scaler', StandardScaler())\n",
    "])"
   ]
  },
  {
   "cell_type": "code",
   "execution_count": 6,
   "id": "9dbe0dfc",
   "metadata": {},
   "outputs": [],
   "source": [
    "# Preprocessing for categorical data\n",
    "categorical_transformer = Pipeline(steps=[\n",
    "    ('imputer', SimpleImputer(strategy='most_frequent')),\n",
    "    ('onehot', OneHotEncoder(handle_unknown='ignore'))\n",
    "])"
   ]
  },
  {
   "cell_type": "code",
   "execution_count": 7,
   "id": "613f7542",
   "metadata": {},
   "outputs": [],
   "source": [
    "# Bundle preprocessing for numerical and categorical data\n",
    "preprocessor = ColumnTransformer(\n",
    "    transformers=[\n",
    "        ('num', numerical_transformer, numerical_cols),\n",
    "        ('cat', categorical_transformer, categorical_cols)\n",
    "    ])"
   ]
  },
  {
   "cell_type": "code",
   "execution_count": 8,
   "id": "2f453d47",
   "metadata": {},
   "outputs": [],
   "source": [
    "# Create pipelines for different models\n",
    "models = {\n",
    "    'Logistic Regression': LogisticRegression(max_iter=1000, random_state=42),\n",
    "    'Random Forest': RandomForestClassifier(random_state=42),\n",
    "    'Gradient Boosting': GradientBoostingClassifier(random_state=42)\n",
    "}"
   ]
  },
  {
   "cell_type": "code",
   "execution_count": 9,
   "id": "49169a10",
   "metadata": {},
   "outputs": [
    {
     "name": "stdout",
     "output_type": "stream",
     "text": [
      "Model: Logistic Regression\n",
      "              precision    recall  f1-score   support\n",
      "\n",
      "           0       0.83      0.96      0.89      1607\n",
      "           1       0.55      0.20      0.29       393\n",
      "\n",
      "    accuracy                           0.81      2000\n",
      "   macro avg       0.69      0.58      0.59      2000\n",
      "weighted avg       0.78      0.81      0.77      2000\n",
      "\n",
      "Confusion Matrix:\n",
      " [[1543   64]\n",
      " [ 314   79]]\n",
      "AUC-ROC: 0.7789\n",
      "============================================================\n",
      "Model: Random Forest\n",
      "              precision    recall  f1-score   support\n",
      "\n",
      "           0       0.88      0.96      0.92      1607\n",
      "           1       0.75      0.46      0.57       393\n",
      "\n",
      "    accuracy                           0.86      2000\n",
      "   macro avg       0.81      0.71      0.75      2000\n",
      "weighted avg       0.85      0.86      0.85      2000\n",
      "\n",
      "Confusion Matrix:\n",
      " [[1545   62]\n",
      " [ 211  182]]\n",
      "AUC-ROC: 0.8563\n",
      "============================================================\n",
      "Model: Gradient Boosting\n",
      "              precision    recall  f1-score   support\n",
      "\n",
      "           0       0.88      0.96      0.92      1607\n",
      "           1       0.74      0.47      0.58       393\n",
      "\n",
      "    accuracy                           0.86      2000\n",
      "   macro avg       0.81      0.72      0.75      2000\n",
      "weighted avg       0.85      0.86      0.85      2000\n",
      "\n",
      "Confusion Matrix:\n",
      " [[1542   65]\n",
      " [ 207  186]]\n",
      "AUC-ROC: 0.8716\n",
      "============================================================\n"
     ]
    }
   ],
   "source": [
    "# Loop through the models, create pipeline, and train them\n",
    "for name, model in models.items():\n",
    "    clf = Pipeline(steps=[('preprocessor', preprocessor),\n",
    "                          ('classifier', model)])\n",
    "    \n",
    "    # Split data into training and testing sets\n",
    "    X_train, X_test, y_train, y_test = train_test_split(X, y, test_size=0.2, random_state=42)\n",
    "    \n",
    "    # Fit the model\n",
    "    clf.fit(X_train, y_train)\n",
    "    \n",
    "    # Make predictions\n",
    "    y_pred = clf.predict(X_test)\n",
    "    y_proba = clf.predict_proba(X_test)[:, 1]\n",
    "    \n",
    "    # Evaluate the model\n",
    "    print(f\"Model: {name}\")\n",
    "    print(classification_report(y_test, y_pred))\n",
    "    print(\"Confusion Matrix:\\n\", confusion_matrix(y_test, y_pred))\n",
    "    print(f\"AUC-ROC: {roc_auc_score(y_test, y_proba):.4f}\")\n",
    "    print(\"=\"*60)"
   ]
  },
  {
   "cell_type": "code",
   "execution_count": 10,
   "id": "1ad0d99e",
   "metadata": {},
   "outputs": [
    {
     "name": "stdout",
     "output_type": "stream",
     "text": [
      "Best parameters found: {'classifier__max_depth': 10, 'classifier__min_samples_split': 5, 'classifier__n_estimators': 200}\n",
      "Best AUC-ROC: 0.8583\n"
     ]
    }
   ],
   "source": [
    "# Hyperparameter tuning for the best model (e.g., Random Forest)\n",
    "param_grid = {\n",
    "    'classifier__n_estimators': [50, 100, 200],\n",
    "    'classifier__max_depth': [None, 10, 20, 30],\n",
    "    'classifier__min_samples_split': [2, 5, 10]\n",
    "}\n",
    "\n",
    "grid_search = GridSearchCV(Pipeline(steps=[('preprocessor', preprocessor),\n",
    "                                           ('classifier', RandomForestClassifier(random_state=42))]),\n",
    "                           param_grid, cv=5, scoring='roc_auc', n_jobs=-1)\n",
    "\n",
    "grid_search.fit(X_train, y_train)\n",
    "\n",
    "print(\"Best parameters found:\", grid_search.best_params_)\n",
    "print(f\"Best AUC-ROC: {grid_search.best_score_:.4f}\")"
   ]
  },
  {
   "cell_type": "code",
   "execution_count": 11,
   "id": "4c501509",
   "metadata": {},
   "outputs": [
    {
     "name": "stdout",
     "output_type": "stream",
     "text": [
      "Final Model Evaluation:\n",
      "              precision    recall  f1-score   support\n",
      "\n",
      "           0       0.88      0.97      0.92      1607\n",
      "           1       0.76      0.44      0.56       393\n",
      "\n",
      "    accuracy                           0.86      2000\n",
      "   macro avg       0.82      0.70      0.74      2000\n",
      "weighted avg       0.85      0.86      0.85      2000\n",
      "\n",
      "Confusion Matrix:\n",
      " [[1554   53]\n",
      " [ 221  172]]\n",
      "AUC-ROC: 0.8678\n"
     ]
    }
   ],
   "source": [
    "# Best model evaluation\n",
    "best_model = grid_search.best_estimator_\n",
    "y_pred_best = best_model.predict(X_test)\n",
    "y_proba_best = best_model.predict_proba(X_test)[:, 1]\n",
    "\n",
    "print(\"Final Model Evaluation:\")\n",
    "print(classification_report(y_test, y_pred_best))\n",
    "print(\"Confusion Matrix:\\n\", confusion_matrix(y_test, y_pred_best))\n",
    "print(f\"AUC-ROC: {roc_auc_score(y_test, y_proba_best):.4f}\")"
   ]
  },
  {
   "cell_type": "code",
   "execution_count": 13,
   "id": "f8884830",
   "metadata": {},
   "outputs": [],
   "source": [
    "# Open a file to save the results\n",
    "with open(\"model_results.txt\", \"w\") as f:\n",
    "    for name, model in models.items():\n",
    "        clf = Pipeline(steps=[('preprocessor', preprocessor),\n",
    "                              ('classifier', model)])\n",
    "\n",
    "        # Split data into training and testing sets\n",
    "        X_train, X_test, y_train, y_test = train_test_split(X, y, test_size=0.2, random_state=42)\n",
    "\n",
    "        # Fit the model\n",
    "        clf.fit(X_train, y_train)\n",
    "\n",
    "        # Make predictions\n",
    "        y_pred = clf.predict(X_test)\n",
    "        y_proba = clf.predict_proba(X_test)[:, 1]\n",
    "\n",
    "        # Evaluate the model\n",
    "        f.write(f\"Model: {name}\\n\")\n",
    "        f.write(classification_report(y_test, y_pred))\n",
    "        f.write(\"Confusion Matrix:\\n\")\n",
    "        f.write(f\"{confusion_matrix(y_test, y_pred)}\\n\")\n",
    "        f.write(f\"AUC-ROC: {roc_auc_score(y_test, y_proba):.4f}\\n\")\n",
    "        f.write(\"=\"*60 + \"\\n\")\n",
    "\n",
    "# Hyperparameter tuning for the best model (e.g., Random Forest)\n",
    "param_grid = {\n",
    "    'classifier__n_estimators': [50, 100, 200],\n",
    "    'classifier__max_depth': [None, 10, 20, 30],\n",
    "    'classifier__min_samples_split': [2, 5, 10]\n",
    "}\n",
    "\n",
    "grid_search = GridSearchCV(Pipeline(steps=[('preprocessor', preprocessor),\n",
    "                                           ('classifier', RandomForestClassifier(random_state=42))]),\n",
    "                           param_grid, cv=5, scoring='roc_auc', n_jobs=-1)\n",
    "\n",
    "grid_search.fit(X_train, y_train)\n",
    "\n",
    "best_model = grid_search.best_estimator_\n",
    "y_pred_best = best_model.predict(X_test)\n",
    "y_proba_best = best_model.predict_proba(X_test)[:, 1]\n",
    "\n",
    "# Save the final evaluation\n",
    "with open(\"model_results.txt\", \"a\") as f:\n",
    "    f.write(\"Best parameters found:\\n\")\n",
    "    f.write(f\"{grid_search.best_params_}\\n\")\n",
    "    f.write(f\"Best AUC-ROC: {grid_search.best_score_:.4f}\\n\\n\")\n",
    "    f.write(\"Final Model Evaluation:\\n\")\n",
    "    f.write(classification_report(y_test, y_pred_best))\n",
    "    f.write(\"Confusion Matrix:\\n\")\n",
    "    f.write(f\"{confusion_matrix(y_test, y_pred_best)}\\n\")\n",
    "    f.write(f\"AUC-ROC: {roc_auc_score(y_test, y_proba_best):.4f}\\n\")"
   ]
  },
  {
   "cell_type": "code",
   "execution_count": null,
   "id": "362d1b6e",
   "metadata": {},
   "outputs": [],
   "source": []
  }
 ],
 "metadata": {
  "kernelspec": {
   "display_name": "Python 3 (ipykernel)",
   "language": "python",
   "name": "python3"
  },
  "language_info": {
   "codemirror_mode": {
    "name": "ipython",
    "version": 3
   },
   "file_extension": ".py",
   "mimetype": "text/x-python",
   "name": "python",
   "nbconvert_exporter": "python",
   "pygments_lexer": "ipython3",
   "version": "3.9.13"
  }
 },
 "nbformat": 4,
 "nbformat_minor": 5
}
